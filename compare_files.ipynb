{
 "metadata": {
  "language_info": {
   "codemirror_mode": {
    "name": "ipython",
    "version": 3
   },
   "file_extension": ".py",
   "mimetype": "text/x-python",
   "name": "python",
   "nbconvert_exporter": "python",
   "pygments_lexer": "ipython3",
   "version": "3.8.3"
  },
  "orig_nbformat": 2,
  "kernelspec": {
   "name": "python3",
   "display_name": "Python 3.8.3 64-bit",
   "metadata": {
    "interpreter": {
     "hash": "cd319a036518ba10cf5fcd5d150aaa76655cd13a022ea49b27be3e633c4cdde2"
    }
   }
  }
 },
 "nbformat": 4,
 "nbformat_minor": 2,
 "cells": [
  {
   "cell_type": "code",
   "execution_count": 2,
   "metadata": {},
   "outputs": [],
   "source": [
    "import file_comparator"
   ]
  },
  {
   "cell_type": "code",
   "execution_count": 3,
   "metadata": {},
   "outputs": [],
   "source": [
    "import os"
   ]
  },
  {
   "cell_type": "code",
   "execution_count": 10,
   "metadata": {},
   "outputs": [],
   "source": [
    "def compare_folders(path_folder1, path_folder2, output_file):\n",
    "    if os.path.exists(output_file):\n",
    "        os.remove(output_file)\n",
    "        \n",
    "    # check for file difference\n",
    "    diff_data = file_comparator.folder_diff(path_folder1, path_folder2)\n",
    "\n",
    "    # record the differences in the file we just created\n",
    "    for item in diff_data:\n",
    "        # initialize mode as 'append mode'\n",
    "        mode = 'a'\n",
    "        if not os.path.exists(output_file):\n",
    "            mode = 'w'\n",
    "        # open the file and write the data into it\n",
    "        with open(output_file, mode) as f:\n",
    "            f.write(item)\n",
    "            f.write('\\n')"
   ]
  },
  {
   "cell_type": "code",
   "execution_count": 12,
   "metadata": {},
   "outputs": [],
   "source": [
    "# check for difference between\n",
    "#   html_files_in, and \n",
    "#   html_files_out\n",
    "path_folder1 = '/home/lincoln/Internship_Project/readability_batch/readability_python/html_files_in'\n",
    "path_folder2 = '/home/lincoln/Internship_Project/readability_batch/readability_python/html_files_out'\n",
    "output_file = '/home/lincoln/Internship_Project/other_files/abc_out/in_out_diff_files'\n",
    "compare_folders(path_folder1, path_folder2, output_file)"
   ]
  },
  {
   "cell_type": "code",
   "execution_count": 13,
   "metadata": {},
   "outputs": [],
   "source": [
    "# check for difference between \n",
    "#   lin_scraped_HTMLs in scrapy env, and \n",
    "#   html_files_in in docker env\n",
    "path_folder1 = '/home/lincoln/Internship_Project/scrapyenv/scraper/scraper/supporting_files/lin_scraped_HTMLs'\n",
    "path_folder2 = '/home/lincoln/Internship_Project/readability_batch/readability_python/html_files_in'\n",
    "output_file = '/home/lincoln/Internship_Project/other_files/scr_doc_diff_files'\n",
    "compare_folders(path_folder1, path_folder2, output_file)"
   ]
  },
  {
   "cell_type": "code",
   "execution_count": null,
   "metadata": {},
   "outputs": [],
   "source": []
  }
 ]
}